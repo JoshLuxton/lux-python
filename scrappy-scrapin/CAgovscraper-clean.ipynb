{
 "metadata": {
  "name": "",
  "signature": "sha256:58bfb398ed44b1c1224c47e191b80380258606afbb5b4a57f1f60d4dc3bfc91d"
 },
 "nbformat": 3,
 "nbformat_minor": 0,
 "worksheets": [
  {
   "cells": [
    {
     "cell_type": "code",
     "collapsed": false,
     "input": [
      "execfile('cagovscrape.py')"
     ],
     "language": "python",
     "metadata": {},
     "outputs": [],
     "prompt_number": 40
    },
    {
     "cell_type": "code",
     "collapsed": false,
     "input": [
      "browser = webdriver.Firefox()"
     ],
     "language": "python",
     "metadata": {},
     "outputs": [],
     "prompt_number": 2
    },
    {
     "cell_type": "code",
     "collapsed": false,
     "input": [
      "data = open('cadata00to34.txt','r')"
     ],
     "language": "python",
     "metadata": {},
     "outputs": [],
     "prompt_number": 9
    },
    {
     "cell_type": "code",
     "collapsed": false,
     "input": [
      "data.readline()"
     ],
     "language": "python",
     "metadata": {},
     "outputs": [
      {
       "metadata": {},
       "output_type": "pyout",
       "prompt_number": 6,
       "text": [
        "'C1000003,TINS ENTERPRISES CORPORATION\\n'"
       ]
      }
     ],
     "prompt_number": 6
    },
    {
     "cell_type": "code",
     "collapsed": false,
     "input": [
      "stuff = []\n",
      "with codecs.open('cadata00to34.txt','r',encoding='utf-8') as inf:\n",
      "    for line in inf:\n",
      "        stuff.append((line[0:8],line[9:-1]))\n",
      "    "
     ],
     "language": "python",
     "metadata": {},
     "outputs": [],
     "prompt_number": 24
    },
    {
     "cell_type": "code",
     "collapsed": false,
     "input": [
      "stuff[0:5]"
     ],
     "language": "python",
     "metadata": {},
     "outputs": [
      {
       "metadata": {},
       "output_type": "pyout",
       "prompt_number": 25,
       "text": [
        "[(u'C1000003', u'TINS ENTERPRISES CORPORATION'),\n",
        " (u'C1000010', u'WESTOVER COMPANY'),\n",
        " (u'C1000011', u'PHARM ASSOCIATES'),\n",
        " (u'C1000020', u'SPORRAN GBL, INC.'),\n",
        " (u'C1000027', u'JOE O. ROCHA DAIRY, INC.')]"
       ]
      }
     ],
     "prompt_number": 25
    },
    {
     "cell_type": "code",
     "collapsed": false,
     "input": [
      "nums,names = zip(*stuff)"
     ],
     "language": "python",
     "metadata": {},
     "outputs": [],
     "prompt_number": 26
    },
    {
     "cell_type": "code",
     "collapsed": false,
     "input": [
      "nums[0:5]"
     ],
     "language": "python",
     "metadata": {},
     "outputs": [
      {
       "metadata": {},
       "output_type": "pyout",
       "prompt_number": 27,
       "text": [
        "(u'C1000003', u'C1000010', u'C1000011', u'C1000020', u'C1000027')"
       ]
      }
     ],
     "prompt_number": 27
    },
    {
     "cell_type": "code",
     "collapsed": false,
     "input": [
      "len(nums)"
     ],
     "language": "python",
     "metadata": {},
     "outputs": [
      {
       "metadata": {},
       "output_type": "pyout",
       "prompt_number": 43,
       "text": [
        "4408"
       ]
      }
     ],
     "prompt_number": 43
    },
    {
     "cell_type": "code",
     "collapsed": false,
     "input": [
      "corplist0to1 = cadictpull(nums[0:1000],browser)"
     ],
     "language": "python",
     "metadata": {},
     "outputs": [],
     "prompt_number": 45
    },
    {
     "cell_type": "code",
     "collapsed": false,
     "input": [
      "corplistrest = cadictpull(nums[1000::],browser)"
     ],
     "language": "python",
     "metadata": {},
     "outputs": [],
     "prompt_number": 46
    },
    {
     "cell_type": "code",
     "collapsed": false,
     "input": [
      "corplistfull = corplist0to1 + corplistrest"
     ],
     "language": "python",
     "metadata": {},
     "outputs": [],
     "prompt_number": 50
    },
    {
     "cell_type": "code",
     "collapsed": false,
     "input": [
      "for line in corplistfull[0:5]:\n",
      "    print line"
     ],
     "language": "python",
     "metadata": {},
     "outputs": [
      {
       "output_type": "stream",
       "stream": "stdout",
       "text": [
        "{u'Jurisdiction:': u'CALIFORNIA', u'Status:': u'ACTIVE', u'Entity City, State, Zip:': u'SANTA MONICA CA 90405', u'Entity Number:': u'C1000003', u'Entity Address:': u'3002 THIRD ST 304', u'Date Filed:': u'08/19/1980', u'Entity Name:': u'TINS ENTERPRISES CORPORATION'}\n",
        "{u'Jurisdiction:': u'CALIFORNIA', u'Status:': u'ACTIVE', u'Entity City, State, Zip:': u'RED BLUFF CA 96080', u'Entity Number:': u'C1000010', u'Entity Address:': u'P O BOX 628', u'Date Filed:': u'08/19/1980', u'Entity Name:': u'WESTOVER COMPANY'}\n",
        "{u'Jurisdiction:': u'CALIFORNIA', u'Status:': u'ACTIVE', u'Entity City, State, Zip:': u'SAN FRANCISCO CA 94133', u'Entity Number:': u'C1000011', u'Entity Address:': u'823 JACKSON STREET, CALIFORNIA', u'Date Filed:': u'08/19/1980', u'Entity Name:': u'PHARM ASSOCIATES'}\n",
        "{u'Jurisdiction:': u'CALIFORNIA', u'Status:': u'ACTIVE', u'Entity City, State, Zip:': u'PARAMUS NJ 07652', u'Entity Number:': u'C1000020', u'Entity Address:': u'160 S. ROUTE 17 NORTH', u'Date Filed:': u'08/20/1980', u'Entity Name:': u'SPORRAN GBL, INC.'}\n",
        "{u'Jurisdiction:': u'CALIFORNIA', u'Status:': u'ACTIVE', u'Entity City, State, Zip:': u'TURLOCK CA 95380', u'Entity Number:': u'C1000027', u'Entity Address:': u'18451 E BRADBURY RD', u'Date Filed:': u'08/20/1980', u'Entity Name:': u'JOE O. ROCHA DAIRY, INC.'}\n"
       ]
      }
     ],
     "prompt_number": 53
    },
    {
     "cell_type": "code",
     "collapsed": false,
     "input": [
      "corplistfull.write('cadict00to30.txt',)"
     ],
     "language": "python",
     "metadata": {},
     "outputs": [
      {
       "ename": "AttributeError",
       "evalue": "'list' object has no attribute 'write'",
       "output_type": "pyerr",
       "traceback": [
        "\u001b[0;31m---------------------------------------------------------------------------\u001b[0m\n\u001b[0;31mAttributeError\u001b[0m                            Traceback (most recent call last)",
        "\u001b[0;32m<ipython-input-51-68d60475bbcb>\u001b[0m in \u001b[0;36m<module>\u001b[0;34m()\u001b[0m\n\u001b[0;32m----> 1\u001b[0;31m \u001b[0mcorplistfull\u001b[0m\u001b[0;34m.\u001b[0m\u001b[0mwrite\u001b[0m\u001b[0;34m(\u001b[0m\u001b[0;34m'cadict00to30.txt'\u001b[0m\u001b[0;34m)\u001b[0m\u001b[0;34m\u001b[0m\u001b[0m\n\u001b[0m",
        "\u001b[0;31mAttributeError\u001b[0m: 'list' object has no attribute 'write'"
       ]
      }
     ],
     "prompt_number": 51
    },
    {
     "cell_type": "code",
     "collapsed": false,
     "input": [
      "dictfile = open('cadicts00to30.txt','w')\n",
      "for line in corplistfull:\n",
      "    dictfile.write('%s \\n' % line)"
     ],
     "language": "python",
     "metadata": {},
     "outputs": [],
     "prompt_number": 55
    },
    {
     "cell_type": "code",
     "collapsed": false,
     "input": [
      "dictfile.close()"
     ],
     "language": "python",
     "metadata": {},
     "outputs": [],
     "prompt_number": 57
    },
    {
     "cell_type": "code",
     "collapsed": false,
     "input": [],
     "language": "python",
     "metadata": {},
     "outputs": []
    }
   ],
   "metadata": {}
  }
 ]
}