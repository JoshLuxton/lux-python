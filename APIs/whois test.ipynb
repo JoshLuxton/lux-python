{
 "cells": [
  {
   "cell_type": "code",
   "execution_count": 2,
   "metadata": {
    "collapsed": true
   },
   "outputs": [],
   "source": [
    "import whois\n",
    "import pandas as pd\n",
    "import numpy as np\n",
    "import json"
   ]
  },
  {
   "cell_type": "code",
   "execution_count": 3,
   "metadata": {
    "collapsed": true
   },
   "outputs": [],
   "source": [
    "def get_whois(url):\n",
    "    response = whois.whois(url)\n",
    "    return response"
   ]
  },
  {
   "cell_type": "code",
   "execution_count": 5,
   "metadata": {
    "collapsed": false
   },
   "outputs": [
    {
     "data": {
      "text/plain": [
       "{u'address': u'1412 Rue Sainte Madeleine null',\n",
       " u'city': u'Quebec',\n",
       " u'country': u'CA',\n",
       " u'creation_date': [datetime.datetime(2009, 6, 6, 0, 0),\n",
       "  datetime.datetime(2009, 6, 6, 18, 15, 41)],\n",
       " u'dnssec': u'unsigned',\n",
       " u'domain_name': [u'VIRDIA.COM', u'virdia.com'],\n",
       " u'emails': [u'abuse@moniker.com', u'moqc30@yahoo.ca'],\n",
       " u'expiration_date': [datetime.datetime(2017, 6, 6, 0, 0),\n",
       "  datetime.datetime(2017, 6, 6, 18, 15, 41)],\n",
       " u'name': u'Zaki Zaki',\n",
       " u'name_servers': [u'SDNS1.OVH.CA',\n",
       "  u'VPS33856.VPS.OVH.CA',\n",
       "  u'sdns1.ovh.ca',\n",
       "  u'vps33856.vps.ovh.ca'],\n",
       " u'org': u'null',\n",
       " u'referral_url': u'http://www.moniker.com',\n",
       " u'registrar': u'Moniker Online Services LLC',\n",
       " u'state': u'Quebec',\n",
       " u'status': [u'clientDeleteProhibited https://icann.org/epp#clientDeleteProhibited',\n",
       "  u'clientTransferProhibited https://icann.org/epp#clientTransferProhibited'],\n",
       " u'updated_date': [datetime.datetime(2016, 5, 26, 0, 0),\n",
       "  datetime.datetime(2016, 5, 26, 1, 19, 5)],\n",
       " u'whois_server': u'whois.moniker.com',\n",
       " u'zipcode': u'G2E 1E2'}"
      ]
     },
     "execution_count": 5,
     "metadata": {},
     "output_type": "execute_result"
    }
   ],
   "source": [
    "get_whois('virdia.com')"
   ]
  },
  {
   "cell_type": "code",
   "execution_count": 4,
   "metadata": {
    "collapsed": false
   },
   "outputs": [
    {
     "data": {
      "text/plain": [
       "{u'address': u'Cerulean Tower, 26-1 Sakuragaoka-cho',\n",
       " u'city': u'Shibuya-ku',\n",
       " u'country': u'JP',\n",
       " u'creation_date': [datetime.datetime(2001, 1, 31, 0, 0),\n",
       "  datetime.datetime(2001, 1, 31, 11, 32, 45)],\n",
       " u'dnssec': u'unsigned',\n",
       " u'domain_name': u'JINS.COM',\n",
       " u'emails': [u'abuse@1api.net', u'domain.master@brights.jp'],\n",
       " u'expiration_date': [datetime.datetime(2017, 1, 31, 0, 0),\n",
       "  datetime.datetime(2017, 1, 31, 11, 32, 45)],\n",
       " u'name': u'Domain Master',\n",
       " u'name_servers': [u'DNS-B.IIJ.AD.JP',\n",
       "  u'DNS-C.IIJ.AD.JP',\n",
       "  u'dns-b.iij.ad.jp',\n",
       "  u'dns-c.iij.ad.jp'],\n",
       " u'org': u'GMO Brights Consulting Inc.',\n",
       " u'referral_url': u'http://www.1api.net',\n",
       " u'registrar': u'1API GmbH',\n",
       " u'state': u'Tokyo',\n",
       " u'status': [u'clientTransferProhibited https://icann.org/epp#clientTransferProhibited',\n",
       "  u'clientTransferProhibited - http://www.icann.org/epp#clientTransferProhibited'],\n",
       " u'updated_date': [datetime.datetime(2015, 12, 11, 0, 0),\n",
       "  datetime.datetime(2015, 8, 17, 15, 32, 38)],\n",
       " u'whois_server': u'whois.1api.net',\n",
       " u'zipcode': u'150-8512'}"
      ]
     },
     "execution_count": 4,
     "metadata": {},
     "output_type": "execute_result"
    }
   ],
   "source": [
    "get_whois('jins.com')"
   ]
  },
  {
   "cell_type": "code",
   "execution_count": 35,
   "metadata": {
    "collapsed": false
   },
   "outputs": [
    {
     "data": {
      "text/plain": [
       "[datetime.datetime(2018, 10, 13, 0, 0), datetime.datetime(2018, 10, 13, 4, 0)]"
      ]
     },
     "execution_count": 35,
     "metadata": {},
     "output_type": "execute_result"
    }
   ],
   "source": [
    "d['expiration_date']"
   ]
  },
  {
   "cell_type": "code",
   "execution_count": 36,
   "metadata": {
    "collapsed": false
   },
   "outputs": [
    {
     "data": {
      "text/html": [
       "<div>\n",
       "<table border=\"1\" class=\"dataframe\">\n",
       "  <thead>\n",
       "    <tr style=\"text-align: right;\">\n",
       "      <th></th>\n",
       "      <th>address</th>\n",
       "      <th>city</th>\n",
       "      <th>country</th>\n",
       "      <th>creation_date</th>\n",
       "      <th>dnssec</th>\n",
       "      <th>domain_name</th>\n",
       "      <th>emails</th>\n",
       "      <th>expiration_date</th>\n",
       "      <th>name</th>\n",
       "      <th>name_servers</th>\n",
       "      <th>org</th>\n",
       "      <th>referral_url</th>\n",
       "      <th>registrar</th>\n",
       "      <th>state</th>\n",
       "      <th>status</th>\n",
       "      <th>updated_date</th>\n",
       "      <th>whois_server</th>\n",
       "      <th>zipcode</th>\n",
       "    </tr>\n",
       "  </thead>\n",
       "  <tbody>\n",
       "    <tr>\n",
       "      <th>0</th>\n",
       "      <td>Tempelhofer Ufer 17</td>\n",
       "      <td>Berlin</td>\n",
       "      <td>DE</td>\n",
       "      <td>1998-10-14 00:00:00</td>\n",
       "      <td>unsigned</td>\n",
       "      <td>OHLALA.COM</td>\n",
       "      <td>abuse@key-systems.net</td>\n",
       "      <td>2018-10-13 00:00:00</td>\n",
       "      <td>Torsten Stüber</td>\n",
       "      <td>NS1.DOMAINDISCOUNT24.NET</td>\n",
       "      <td>Spreefang UG (haftungsbeschränkt)</td>\n",
       "      <td>http://www.key-systems.net</td>\n",
       "      <td>Key-Systems GmbH</td>\n",
       "      <td>Berlin</td>\n",
       "      <td>ok https://icann.org/epp#ok</td>\n",
       "      <td>2015-09-09 00:00:00</td>\n",
       "      <td>whois.rrpproxy.net</td>\n",
       "      <td>10963</td>\n",
       "    </tr>\n",
       "    <tr>\n",
       "      <th>1</th>\n",
       "      <td>NaN</td>\n",
       "      <td>NaN</td>\n",
       "      <td>NaN</td>\n",
       "      <td>1998-10-14 04:00:00</td>\n",
       "      <td>NaN</td>\n",
       "      <td>ohlala.com</td>\n",
       "      <td>torsten.stueber@spreefang.de</td>\n",
       "      <td>2018-10-13 04:00:00</td>\n",
       "      <td>NaN</td>\n",
       "      <td>NS2.DOMAINDISCOUNT24.NET</td>\n",
       "      <td>NaN</td>\n",
       "      <td>NaN</td>\n",
       "      <td>NaN</td>\n",
       "      <td>NaN</td>\n",
       "      <td>NaN</td>\n",
       "      <td>2015-09-09 16:19:28</td>\n",
       "      <td>NaN</td>\n",
       "      <td>NaN</td>\n",
       "    </tr>\n",
       "    <tr>\n",
       "      <th>2</th>\n",
       "      <td>NaN</td>\n",
       "      <td>NaN</td>\n",
       "      <td>NaN</td>\n",
       "      <td>NaT</td>\n",
       "      <td>NaN</td>\n",
       "      <td>NaN</td>\n",
       "      <td>NaN</td>\n",
       "      <td>NaT</td>\n",
       "      <td>NaN</td>\n",
       "      <td>NS3.DOMAINDISCOUNT24.NET</td>\n",
       "      <td>NaN</td>\n",
       "      <td>NaN</td>\n",
       "      <td>NaN</td>\n",
       "      <td>NaN</td>\n",
       "      <td>NaN</td>\n",
       "      <td>NaT</td>\n",
       "      <td>NaN</td>\n",
       "      <td>NaN</td>\n",
       "    </tr>\n",
       "    <tr>\n",
       "      <th>3</th>\n",
       "      <td>NaN</td>\n",
       "      <td>NaN</td>\n",
       "      <td>NaN</td>\n",
       "      <td>NaT</td>\n",
       "      <td>NaN</td>\n",
       "      <td>NaN</td>\n",
       "      <td>NaN</td>\n",
       "      <td>NaT</td>\n",
       "      <td>NaN</td>\n",
       "      <td>ns1.domaindiscount24.net</td>\n",
       "      <td>NaN</td>\n",
       "      <td>NaN</td>\n",
       "      <td>NaN</td>\n",
       "      <td>NaN</td>\n",
       "      <td>NaN</td>\n",
       "      <td>NaT</td>\n",
       "      <td>NaN</td>\n",
       "      <td>NaN</td>\n",
       "    </tr>\n",
       "    <tr>\n",
       "      <th>4</th>\n",
       "      <td>NaN</td>\n",
       "      <td>NaN</td>\n",
       "      <td>NaN</td>\n",
       "      <td>NaT</td>\n",
       "      <td>NaN</td>\n",
       "      <td>NaN</td>\n",
       "      <td>NaN</td>\n",
       "      <td>NaT</td>\n",
       "      <td>NaN</td>\n",
       "      <td>ns2.domaindiscount24.net</td>\n",
       "      <td>NaN</td>\n",
       "      <td>NaN</td>\n",
       "      <td>NaN</td>\n",
       "      <td>NaN</td>\n",
       "      <td>NaN</td>\n",
       "      <td>NaT</td>\n",
       "      <td>NaN</td>\n",
       "      <td>NaN</td>\n",
       "    </tr>\n",
       "    <tr>\n",
       "      <th>5</th>\n",
       "      <td>NaN</td>\n",
       "      <td>NaN</td>\n",
       "      <td>NaN</td>\n",
       "      <td>NaT</td>\n",
       "      <td>NaN</td>\n",
       "      <td>NaN</td>\n",
       "      <td>NaN</td>\n",
       "      <td>NaT</td>\n",
       "      <td>NaN</td>\n",
       "      <td>ns3.domaindiscount24.net</td>\n",
       "      <td>NaN</td>\n",
       "      <td>NaN</td>\n",
       "      <td>NaN</td>\n",
       "      <td>NaN</td>\n",
       "      <td>NaN</td>\n",
       "      <td>NaT</td>\n",
       "      <td>NaN</td>\n",
       "      <td>NaN</td>\n",
       "    </tr>\n",
       "  </tbody>\n",
       "</table>\n",
       "</div>"
      ],
      "text/plain": [
       "               address    city country       creation_date    dnssec  \\\n",
       "0  Tempelhofer Ufer 17  Berlin      DE 1998-10-14 00:00:00  unsigned   \n",
       "1                  NaN     NaN     NaN 1998-10-14 04:00:00       NaN   \n",
       "2                  NaN     NaN     NaN                 NaT       NaN   \n",
       "3                  NaN     NaN     NaN                 NaT       NaN   \n",
       "4                  NaN     NaN     NaN                 NaT       NaN   \n",
       "5                  NaN     NaN     NaN                 NaT       NaN   \n",
       "\n",
       "  domain_name                        emails     expiration_date  \\\n",
       "0  OHLALA.COM         abuse@key-systems.net 2018-10-13 00:00:00   \n",
       "1  ohlala.com  torsten.stueber@spreefang.de 2018-10-13 04:00:00   \n",
       "2         NaN                           NaN                 NaT   \n",
       "3         NaN                           NaN                 NaT   \n",
       "4         NaN                           NaN                 NaT   \n",
       "5         NaN                           NaN                 NaT   \n",
       "\n",
       "             name              name_servers  \\\n",
       "0  Torsten Stüber  NS1.DOMAINDISCOUNT24.NET   \n",
       "1             NaN  NS2.DOMAINDISCOUNT24.NET   \n",
       "2             NaN  NS3.DOMAINDISCOUNT24.NET   \n",
       "3             NaN  ns1.domaindiscount24.net   \n",
       "4             NaN  ns2.domaindiscount24.net   \n",
       "5             NaN  ns3.domaindiscount24.net   \n",
       "\n",
       "                                 org                referral_url  \\\n",
       "0  Spreefang UG (haftungsbeschränkt)  http://www.key-systems.net   \n",
       "1                                NaN                         NaN   \n",
       "2                                NaN                         NaN   \n",
       "3                                NaN                         NaN   \n",
       "4                                NaN                         NaN   \n",
       "5                                NaN                         NaN   \n",
       "\n",
       "          registrar   state                       status        updated_date  \\\n",
       "0  Key-Systems GmbH  Berlin  ok https://icann.org/epp#ok 2015-09-09 00:00:00   \n",
       "1               NaN     NaN                          NaN 2015-09-09 16:19:28   \n",
       "2               NaN     NaN                          NaN                 NaT   \n",
       "3               NaN     NaN                          NaN                 NaT   \n",
       "4               NaN     NaN                          NaN                 NaT   \n",
       "5               NaN     NaN                          NaN                 NaT   \n",
       "\n",
       "         whois_server zipcode  \n",
       "0  whois.rrpproxy.net   10963  \n",
       "1                 NaN     NaN  \n",
       "2                 NaN     NaN  \n",
       "3                 NaN     NaN  \n",
       "4                 NaN     NaN  \n",
       "5                 NaN     NaN  "
      ]
     },
     "execution_count": 36,
     "metadata": {},
     "output_type": "execute_result"
    }
   ],
   "source": [
    "pd.DataFrame({k : pd.Series(v) for k, v in d.iteritems()})"
   ]
  },
  {
   "cell_type": "code",
   "execution_count": 7,
   "metadata": {
    "collapsed": false,
    "scrolled": true
   },
   "outputs": [
    {
     "data": {
      "text/plain": [
       "{u'address': u'1355 Market Street',\n",
       " u'city': u'San Francisco',\n",
       " u'country': u'US',\n",
       " u'creation_date': [datetime.datetime(2000, 1, 21, 0, 0),\n",
       "  datetime.datetime(2000, 1, 21, 16, 28, 17)],\n",
       " u'dnssec': u'unsigned',\n",
       " u'domain_name': [u'TWITTER.COM', u'twitter.com'],\n",
       " u'emails': [u'domainabuse@cscglobal.com',\n",
       "  u'domains@twitter.com',\n",
       "  u'domains-tech@twitter.com'],\n",
       " u'expiration_date': [datetime.datetime(2020, 1, 21, 0, 0),\n",
       "  datetime.datetime(2020, 1, 21, 16, 28, 17)],\n",
       " u'name': u'Twitter, Inc.',\n",
       " u'name_servers': [u'NS1.P34.DYNECT.NET',\n",
       "  u'NS2.P34.DYNECT.NET',\n",
       "  u'NS3.P34.DYNECT.NET',\n",
       "  u'NS4.P34.DYNECT.NET'],\n",
       " u'org': u'Twitter, Inc.',\n",
       " u'referral_url': u'www.cscprotectsbrands.com',\n",
       " u'registrar': u'CSC CORPORATE DOMAINS, INC.',\n",
       " u'state': u'CA',\n",
       " u'status': [u'clientTransferProhibited https://icann.org/epp#clientTransferProhibited',\n",
       "  u'serverDeleteProhibited https://icann.org/epp#serverDeleteProhibited',\n",
       "  u'serverTransferProhibited https://icann.org/epp#serverTransferProhibited',\n",
       "  u'serverUpdateProhibited https://icann.org/epp#serverUpdateProhibited',\n",
       "  u'serverTransferProhibited http://www.icann.org/epp#serverTransferProhibited',\n",
       "  u'serverDeleteProhibited http://www.icann.org/epp#serverDeleteProhibited',\n",
       "  u'clientTransferProhibited http://www.icann.org/epp#clientTransferProhibited',\n",
       "  u'serverUpdateProhibited http://www.icann.org/epp#serverUpdateProhibited'],\n",
       " u'updated_date': [datetime.datetime(2013, 10, 7, 0, 0),\n",
       "  datetime.datetime(2014, 2, 11, 15, 40, 13)],\n",
       " u'whois_server': u'whois.corporatedomains.com',\n",
       " u'zipcode': u'94103'}"
      ]
     },
     "execution_count": 7,
     "metadata": {},
     "output_type": "execute_result"
    }
   ],
   "source": [
    "get_whois('twitter.com')"
   ]
  },
  {
   "cell_type": "code",
   "execution_count": 6,
   "metadata": {
    "collapsed": false,
    "scrolled": true
   },
   "outputs": [
    {
     "data": {
      "text/plain": [
       "{u'address': u'2029 Stierlin Court,',\n",
       " u'city': u'Mountain View',\n",
       " u'country': u'US',\n",
       " u'creation_date': [datetime.datetime(2002, 11, 2, 0, 0),\n",
       "  datetime.datetime(2002, 11, 2, 7, 38, 11)],\n",
       " u'dnssec': u'unsigned',\n",
       " u'domain_name': [u'LINKEDIN.COM', u'linkedin.com'],\n",
       " u'emails': [u'abusecomplaints@markmonitor.com', u'hostmaster@linkedin.com'],\n",
       " u'expiration_date': [datetime.datetime(2020, 11, 2, 0, 0),\n",
       "  datetime.datetime(2020, 11, 2, 7, 38, 11)],\n",
       " u'name': u'Host Master',\n",
       " u'name_servers': [u'DNS1.P09.NSONE.NET',\n",
       "  u'DNS2.P09.NSONE.NET',\n",
       "  u'DNS3.P09.NSONE.NET',\n",
       "  u'DNS4.P09.NSONE.NET',\n",
       "  u'NS1.P43.DYNECT.NET',\n",
       "  u'NS2.P43.DYNECT.NET',\n",
       "  u'NS3.P43.DYNECT.NET',\n",
       "  u'NS4.P43.DYNECT.NET',\n",
       "  u'ns2.p43.dynect.net',\n",
       "  u'ns1.p43.dynect.net',\n",
       "  u'dns3.p09.nsone.net',\n",
       "  u'dns4.p09.nsone.net',\n",
       "  u'dns2.p09.nsone.net',\n",
       "  u'dns1.p09.nsone.net',\n",
       "  u'ns3.p43.dynect.net',\n",
       "  u'ns4.p43.dynect.net'],\n",
       " u'org': u'LinkedIn Corporation',\n",
       " u'referral_url': u'http://www.markmonitor.com',\n",
       " u'registrar': u'MarkMonitor, Inc.',\n",
       " u'state': u'CA',\n",
       " u'status': [u'clientDeleteProhibited https://icann.org/epp#clientDeleteProhibited',\n",
       "  u'clientTransferProhibited https://icann.org/epp#clientTransferProhibited',\n",
       "  u'clientUpdateProhibited https://icann.org/epp#clientUpdateProhibited',\n",
       "  u'serverDeleteProhibited https://icann.org/epp#serverDeleteProhibited',\n",
       "  u'serverTransferProhibited https://icann.org/epp#serverTransferProhibited',\n",
       "  u'serverUpdateProhibited https://icann.org/epp#serverUpdateProhibited',\n",
       "  u'clientUpdateProhibited (https://www.icann.org/epp#clientUpdateProhibited)',\n",
       "  u'clientTransferProhibited (https://www.icann.org/epp#clientTransferProhibited)',\n",
       "  u'clientDeleteProhibited (https://www.icann.org/epp#clientDeleteProhibited)',\n",
       "  u'serverUpdateProhibited (https://www.icann.org/epp#serverUpdateProhibited)',\n",
       "  u'serverTransferProhibited (https://www.icann.org/epp#serverTransferProhibited)',\n",
       "  u'serverDeleteProhibited (https://www.icann.org/epp#serverDeleteProhibited)'],\n",
       " u'updated_date': [datetime.datetime(2016, 10, 5, 0, 0),\n",
       "  datetime.datetime(2016, 10, 5, 14, 11, 32)],\n",
       " u'whois_server': u'whois.markmonitor.com',\n",
       " u'zipcode': u'94043'}"
      ]
     },
     "execution_count": 6,
     "metadata": {},
     "output_type": "execute_result"
    }
   ],
   "source": [
    "get_whois('linkedin.com')"
   ]
  },
  {
   "cell_type": "code",
   "execution_count": 5,
   "metadata": {
    "collapsed": false
   },
   "outputs": [],
   "source": [
    "d = get_whois('ohlala.com')"
   ]
  },
  {
   "cell_type": "code",
   "execution_count": 18,
   "metadata": {
    "collapsed": false
   },
   "outputs": [
    {
     "data": {
      "text/plain": [
       "dict_values([[datetime.datetime(2015, 9, 9, 0, 0), datetime.datetime(2015, 9, 9, 16, 19, 28)], u'ok https://icann.org/epp#ok', u'Torsten St\\xfcber', u'unsigned', u'Berlin', [datetime.datetime(2018, 10, 13, 0, 0), datetime.datetime(2018, 10, 13, 4, 0)], u'10963', [u'OHLALA.COM', u'ohlala.com'], u'DE', u'whois.rrpproxy.net', u'Berlin', u'Key-Systems GmbH', u'http://www.key-systems.net', u'Tempelhofer Ufer 17', [u'NS1.DOMAINDISCOUNT24.NET', u'NS2.DOMAINDISCOUNT24.NET', u'NS3.DOMAINDISCOUNT24.NET', u'ns1.domaindiscount24.net', u'ns2.domaindiscount24.net', u'ns3.domaindiscount24.net'], u'Spreefang UG (haftungsbeschr\\xe4nkt)', [datetime.datetime(1998, 10, 14, 0, 0), datetime.datetime(1998, 10, 14, 4, 0)], [u'abuse@key-systems.net', u'torsten.stueber@spreefang.de']])"
      ]
     },
     "execution_count": 18,
     "metadata": {},
     "output_type": "execute_result"
    }
   ],
   "source": [
    "d.items()"
   ]
  },
  {
   "cell_type": "code",
   "execution_count": 26,
   "metadata": {
    "collapsed": false
   },
   "outputs": [
    {
     "data": {
      "text/plain": [
       "dict_items([(u'updated_date', [datetime.datetime(2015, 9, 9, 0, 0), datetime.datetime(2015, 9, 9, 16, 19, 28)]), (u'status', u'ok https://icann.org/epp#ok'), (u'name', u'Torsten St\\xfcber'), (u'dnssec', u'unsigned'), (u'city', u'Berlin'), (u'expiration_date', [datetime.datetime(2018, 10, 13, 0, 0), datetime.datetime(2018, 10, 13, 4, 0)]), (u'zipcode', u'10963'), (u'domain_name', [u'OHLALA.COM', u'ohlala.com']), (u'country', u'DE'), (u'whois_server', u'whois.rrpproxy.net'), (u'state', u'Berlin'), (u'registrar', u'Key-Systems GmbH'), (u'referral_url', u'http://www.key-systems.net'), (u'address', u'Tempelhofer Ufer 17'), (u'name_servers', [u'NS1.DOMAINDISCOUNT24.NET', u'NS2.DOMAINDISCOUNT24.NET', u'NS3.DOMAINDISCOUNT24.NET', u'ns1.domaindiscount24.net', u'ns2.domaindiscount24.net', u'ns3.domaindiscount24.net']), (u'org', u'Spreefang UG (haftungsbeschr\\xe4nkt)'), (u'creation_date', [datetime.datetime(1998, 10, 14, 0, 0), datetime.datetime(1998, 10, 14, 4, 0)]), (u'emails', [u'abuse@key-systems.net', u'torsten.stueber@spreefang.de'])])"
      ]
     },
     "execution_count": 26,
     "metadata": {},
     "output_type": "execute_result"
    }
   ],
   "source": [
    "d.viewitems()"
   ]
  },
  {
   "cell_type": "code",
   "execution_count": 23,
   "metadata": {
    "collapsed": false
   },
   "outputs": [
    {
     "data": {
      "text/plain": [
       "dict_keys([u'updated_date', u'status', u'name', u'dnssec', u'city', u'expiration_date', u'zipcode', u'domain_name', u'country', u'whois_server', u'state', u'registrar', u'referral_url', u'address', u'name_servers', u'org', u'creation_date', u'emails'])"
      ]
     },
     "execution_count": 23,
     "metadata": {},
     "output_type": "execute_result"
    }
   ],
   "source": [
    "d.keys()"
   ]
  },
  {
   "cell_type": "code",
   "execution_count": 4,
   "metadata": {
    "collapsed": false
   },
   "outputs": [
    {
     "data": {
      "text/plain": [
       "{u'address': u'564 PACIFIC AVENUE',\n",
       " u'city': u'SAN FRANCISCO',\n",
       " u'country': u'US',\n",
       " u'creation_date': [datetime.datetime(2005, 2, 25, 0, 0),\n",
       "  datetime.datetime(2005, 2, 25, 22, 58)],\n",
       " u'dnssec': u'unSigned',\n",
       " u'domain_name': u'MATTERMARK.COM',\n",
       " u'emails': [u'SUPPORT@MATTERMARK.COM', u'abuse@enom.com'],\n",
       " u'expiration_date': [datetime.datetime(2024, 1, 1, 0, 0),\n",
       "  datetime.datetime(2024, 1, 1, 4, 59)],\n",
       " u'name': u'DANIELLE MORRILL',\n",
       " u'name_servers': [u'NS-1187.AWSDNS-20.ORG',\n",
       "  u'NS-1962.AWSDNS-53.CO.UK',\n",
       "  u'NS-839.AWSDNS-40.NET',\n",
       "  u'NS-98.AWSDNS-12.COM'],\n",
       " u'org': u'MATTERMARK INC.',\n",
       " u'referral_url': u'http://www.enom.com',\n",
       " u'registrar': u'ENOM, INC.',\n",
       " u'state': u'CA',\n",
       " u'status': [u'clientTransferProhibited https://icann.org/epp#clientTransferProhibited',\n",
       "  u'clientTransferProhibited https://www.icann.org/epp#clientTransferProhibited'],\n",
       " u'updated_date': [datetime.datetime(2016, 2, 19, 0, 0),\n",
       "  datetime.datetime(2013, 10, 3, 10, 4, 19)],\n",
       " u'whois_server': u'whois.enom.com',\n",
       " u'zipcode': u'94133'}"
      ]
     },
     "execution_count": 4,
     "metadata": {},
     "output_type": "execute_result"
    }
   ],
   "source": [
    "get_whois('mattermark.com')"
   ]
  },
  {
   "cell_type": "code",
   "execution_count": null,
   "metadata": {
    "collapsed": true
   },
   "outputs": [],
   "source": [
    "w = whois.whois(url)"
   ]
  },
  {
   "cell_type": "code",
   "execution_count": null,
   "metadata": {
    "collapsed": false
   },
   "outputs": [],
   "source": [
    "w"
   ]
  },
  {
   "cell_type": "code",
   "execution_count": null,
   "metadata": {
    "collapsed": true
   },
   "outputs": [],
   "source": []
  }
 ],
 "metadata": {
  "anaconda-cloud": {},
  "kernelspec": {
   "display_name": "Python [Root]",
   "language": "python",
   "name": "Python [Root]"
  },
  "language_info": {
   "codemirror_mode": {
    "name": "ipython",
    "version": 2
   },
   "file_extension": ".py",
   "mimetype": "text/x-python",
   "name": "python",
   "nbconvert_exporter": "python",
   "pygments_lexer": "ipython2",
   "version": "2.7.12"
  }
 },
 "nbformat": 4,
 "nbformat_minor": 0
}
