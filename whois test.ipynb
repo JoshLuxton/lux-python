{
 "cells": [
  {
   "cell_type": "code",
   "execution_count": 1,
   "metadata": {
    "collapsed": true
   },
   "outputs": [],
   "source": [
    "import whois\n",
    "import pandas as pd\n",
    "import numpy as np\n",
    "import json"
   ]
  },
  {
   "cell_type": "code",
   "execution_count": 2,
   "metadata": {
    "collapsed": true
   },
   "outputs": [],
   "source": [
    "def get_whois(url):\n",
    "    response = whois.whois(url)\n",
    "    return response"
   ]
  },
  {
   "cell_type": "code",
   "execution_count": 3,
   "metadata": {
    "collapsed": false
   },
   "outputs": [
    {
     "data": {
      "text/plain": [
       "{u'address': u'1455 Market Street, 4th Floor',\n",
       " u'city': u'San Francisco',\n",
       " u'country': u'US',\n",
       " u'creation_date': [datetime.datetime(1995, 7, 14, 0, 0),\n",
       "  datetime.datetime(1995, 7, 13, 21, 0)],\n",
       " u'dnssec': u'unsigned',\n",
       " u'domain_name': [u'UBER.COM', u'uber.com'],\n",
       " u'emails': [u'abusecomplaints@markmonitor.com', u'domains@uber.com'],\n",
       " u'expiration_date': [datetime.datetime(2020, 7, 13, 0, 0),\n",
       "  datetime.datetime(2020, 7, 12, 21, 0)],\n",
       " u'name': u'Domain Administrator',\n",
       " u'name_servers': [u'PDNS80.ULTRADNS.BIZ',\n",
       "  u'PDNS80.ULTRADNS.COM',\n",
       "  u'PDNS80.ULTRADNS.NET',\n",
       "  u'PDNS80.ULTRADNS.ORG',\n",
       "  u'pdns80.ultradns.com',\n",
       "  u'pdns80.ultradns.net',\n",
       "  u'pdns80.ultradns.org',\n",
       "  u'pdns80.ultradns.biz'],\n",
       " u'org': u'Uber Technologies, Inc.',\n",
       " u'referral_url': u'http://www.markmonitor.com',\n",
       " u'registrar': u'MarkMonitor, Inc.',\n",
       " u'state': u'CA',\n",
       " u'status': [u'clientDeleteProhibited https://icann.org/epp#clientDeleteProhibited',\n",
       "  u'clientTransferProhibited https://icann.org/epp#clientTransferProhibited',\n",
       "  u'clientUpdateProhibited https://icann.org/epp#clientUpdateProhibited',\n",
       "  u'clientUpdateProhibited (https://www.icann.org/epp#clientUpdateProhibited)',\n",
       "  u'clientTransferProhibited (https://www.icann.org/epp#clientTransferProhibited)',\n",
       "  u'clientDeleteProhibited (https://www.icann.org/epp#clientDeleteProhibited)'],\n",
       " u'updated_date': [datetime.datetime(2015, 9, 8, 0, 0),\n",
       "  datetime.datetime(2016, 7, 6, 4, 0, 2)],\n",
       " u'whois_server': u'whois.markmonitor.com',\n",
       " u'zipcode': u'94103'}"
      ]
     },
     "execution_count": 3,
     "metadata": {},
     "output_type": "execute_result"
    }
   ],
   "source": [
    "get_whois('uber.com')"
   ]
  },
  {
   "cell_type": "code",
   "execution_count": 31,
   "metadata": {
    "collapsed": false
   },
   "outputs": [
    {
     "data": {
      "text/html": [
       "<div>\n",
       "<table border=\"1\" class=\"dataframe\">\n",
       "  <thead>\n",
       "    <tr style=\"text-align: right;\">\n",
       "      <th></th>\n",
       "      <th>seriously</th>\n",
       "      <th>wtf</th>\n",
       "    </tr>\n",
       "  </thead>\n",
       "  <tbody>\n",
       "    <tr>\n",
       "      <th>0</th>\n",
       "      <td>fuck</td>\n",
       "      <td>1</td>\n",
       "    </tr>\n",
       "    <tr>\n",
       "      <th>1</th>\n",
       "      <td>fuck</td>\n",
       "      <td>2</td>\n",
       "    </tr>\n",
       "    <tr>\n",
       "      <th>2</th>\n",
       "      <td>fuck</td>\n",
       "      <td>3</td>\n",
       "    </tr>\n",
       "  </tbody>\n",
       "</table>\n",
       "</div>"
      ],
      "text/plain": [
       "  seriously  wtf\n",
       "0      fuck    1\n",
       "1      fuck    2\n",
       "2      fuck    3"
      ]
     },
     "execution_count": 31,
     "metadata": {},
     "output_type": "execute_result"
    }
   ],
   "source": [
    "pd.DataFrame({\"wtf\": [1,2,3], 'seriously': 'fuck'})"
   ]
  },
  {
   "cell_type": "code",
   "execution_count": 35,
   "metadata": {
    "collapsed": false
   },
   "outputs": [
    {
     "data": {
      "text/plain": [
       "[datetime.datetime(2018, 10, 13, 0, 0), datetime.datetime(2018, 10, 13, 4, 0)]"
      ]
     },
     "execution_count": 35,
     "metadata": {},
     "output_type": "execute_result"
    }
   ],
   "source": [
    "d['expiration_date']"
   ]
  },
  {
   "cell_type": "code",
   "execution_count": 36,
   "metadata": {
    "collapsed": false
   },
   "outputs": [
    {
     "data": {
      "text/html": [
       "<div>\n",
       "<table border=\"1\" class=\"dataframe\">\n",
       "  <thead>\n",
       "    <tr style=\"text-align: right;\">\n",
       "      <th></th>\n",
       "      <th>address</th>\n",
       "      <th>city</th>\n",
       "      <th>country</th>\n",
       "      <th>creation_date</th>\n",
       "      <th>dnssec</th>\n",
       "      <th>domain_name</th>\n",
       "      <th>emails</th>\n",
       "      <th>expiration_date</th>\n",
       "      <th>name</th>\n",
       "      <th>name_servers</th>\n",
       "      <th>org</th>\n",
       "      <th>referral_url</th>\n",
       "      <th>registrar</th>\n",
       "      <th>state</th>\n",
       "      <th>status</th>\n",
       "      <th>updated_date</th>\n",
       "      <th>whois_server</th>\n",
       "      <th>zipcode</th>\n",
       "    </tr>\n",
       "  </thead>\n",
       "  <tbody>\n",
       "    <tr>\n",
       "      <th>0</th>\n",
       "      <td>Tempelhofer Ufer 17</td>\n",
       "      <td>Berlin</td>\n",
       "      <td>DE</td>\n",
       "      <td>1998-10-14 00:00:00</td>\n",
       "      <td>unsigned</td>\n",
       "      <td>OHLALA.COM</td>\n",
       "      <td>abuse@key-systems.net</td>\n",
       "      <td>2018-10-13 00:00:00</td>\n",
       "      <td>Torsten Stüber</td>\n",
       "      <td>NS1.DOMAINDISCOUNT24.NET</td>\n",
       "      <td>Spreefang UG (haftungsbeschränkt)</td>\n",
       "      <td>http://www.key-systems.net</td>\n",
       "      <td>Key-Systems GmbH</td>\n",
       "      <td>Berlin</td>\n",
       "      <td>ok https://icann.org/epp#ok</td>\n",
       "      <td>2015-09-09 00:00:00</td>\n",
       "      <td>whois.rrpproxy.net</td>\n",
       "      <td>10963</td>\n",
       "    </tr>\n",
       "    <tr>\n",
       "      <th>1</th>\n",
       "      <td>NaN</td>\n",
       "      <td>NaN</td>\n",
       "      <td>NaN</td>\n",
       "      <td>1998-10-14 04:00:00</td>\n",
       "      <td>NaN</td>\n",
       "      <td>ohlala.com</td>\n",
       "      <td>torsten.stueber@spreefang.de</td>\n",
       "      <td>2018-10-13 04:00:00</td>\n",
       "      <td>NaN</td>\n",
       "      <td>NS2.DOMAINDISCOUNT24.NET</td>\n",
       "      <td>NaN</td>\n",
       "      <td>NaN</td>\n",
       "      <td>NaN</td>\n",
       "      <td>NaN</td>\n",
       "      <td>NaN</td>\n",
       "      <td>2015-09-09 16:19:28</td>\n",
       "      <td>NaN</td>\n",
       "      <td>NaN</td>\n",
       "    </tr>\n",
       "    <tr>\n",
       "      <th>2</th>\n",
       "      <td>NaN</td>\n",
       "      <td>NaN</td>\n",
       "      <td>NaN</td>\n",
       "      <td>NaT</td>\n",
       "      <td>NaN</td>\n",
       "      <td>NaN</td>\n",
       "      <td>NaN</td>\n",
       "      <td>NaT</td>\n",
       "      <td>NaN</td>\n",
       "      <td>NS3.DOMAINDISCOUNT24.NET</td>\n",
       "      <td>NaN</td>\n",
       "      <td>NaN</td>\n",
       "      <td>NaN</td>\n",
       "      <td>NaN</td>\n",
       "      <td>NaN</td>\n",
       "      <td>NaT</td>\n",
       "      <td>NaN</td>\n",
       "      <td>NaN</td>\n",
       "    </tr>\n",
       "    <tr>\n",
       "      <th>3</th>\n",
       "      <td>NaN</td>\n",
       "      <td>NaN</td>\n",
       "      <td>NaN</td>\n",
       "      <td>NaT</td>\n",
       "      <td>NaN</td>\n",
       "      <td>NaN</td>\n",
       "      <td>NaN</td>\n",
       "      <td>NaT</td>\n",
       "      <td>NaN</td>\n",
       "      <td>ns1.domaindiscount24.net</td>\n",
       "      <td>NaN</td>\n",
       "      <td>NaN</td>\n",
       "      <td>NaN</td>\n",
       "      <td>NaN</td>\n",
       "      <td>NaN</td>\n",
       "      <td>NaT</td>\n",
       "      <td>NaN</td>\n",
       "      <td>NaN</td>\n",
       "    </tr>\n",
       "    <tr>\n",
       "      <th>4</th>\n",
       "      <td>NaN</td>\n",
       "      <td>NaN</td>\n",
       "      <td>NaN</td>\n",
       "      <td>NaT</td>\n",
       "      <td>NaN</td>\n",
       "      <td>NaN</td>\n",
       "      <td>NaN</td>\n",
       "      <td>NaT</td>\n",
       "      <td>NaN</td>\n",
       "      <td>ns2.domaindiscount24.net</td>\n",
       "      <td>NaN</td>\n",
       "      <td>NaN</td>\n",
       "      <td>NaN</td>\n",
       "      <td>NaN</td>\n",
       "      <td>NaN</td>\n",
       "      <td>NaT</td>\n",
       "      <td>NaN</td>\n",
       "      <td>NaN</td>\n",
       "    </tr>\n",
       "    <tr>\n",
       "      <th>5</th>\n",
       "      <td>NaN</td>\n",
       "      <td>NaN</td>\n",
       "      <td>NaN</td>\n",
       "      <td>NaT</td>\n",
       "      <td>NaN</td>\n",
       "      <td>NaN</td>\n",
       "      <td>NaN</td>\n",
       "      <td>NaT</td>\n",
       "      <td>NaN</td>\n",
       "      <td>ns3.domaindiscount24.net</td>\n",
       "      <td>NaN</td>\n",
       "      <td>NaN</td>\n",
       "      <td>NaN</td>\n",
       "      <td>NaN</td>\n",
       "      <td>NaN</td>\n",
       "      <td>NaT</td>\n",
       "      <td>NaN</td>\n",
       "      <td>NaN</td>\n",
       "    </tr>\n",
       "  </tbody>\n",
       "</table>\n",
       "</div>"
      ],
      "text/plain": [
       "               address    city country       creation_date    dnssec  \\\n",
       "0  Tempelhofer Ufer 17  Berlin      DE 1998-10-14 00:00:00  unsigned   \n",
       "1                  NaN     NaN     NaN 1998-10-14 04:00:00       NaN   \n",
       "2                  NaN     NaN     NaN                 NaT       NaN   \n",
       "3                  NaN     NaN     NaN                 NaT       NaN   \n",
       "4                  NaN     NaN     NaN                 NaT       NaN   \n",
       "5                  NaN     NaN     NaN                 NaT       NaN   \n",
       "\n",
       "  domain_name                        emails     expiration_date  \\\n",
       "0  OHLALA.COM         abuse@key-systems.net 2018-10-13 00:00:00   \n",
       "1  ohlala.com  torsten.stueber@spreefang.de 2018-10-13 04:00:00   \n",
       "2         NaN                           NaN                 NaT   \n",
       "3         NaN                           NaN                 NaT   \n",
       "4         NaN                           NaN                 NaT   \n",
       "5         NaN                           NaN                 NaT   \n",
       "\n",
       "             name              name_servers  \\\n",
       "0  Torsten Stüber  NS1.DOMAINDISCOUNT24.NET   \n",
       "1             NaN  NS2.DOMAINDISCOUNT24.NET   \n",
       "2             NaN  NS3.DOMAINDISCOUNT24.NET   \n",
       "3             NaN  ns1.domaindiscount24.net   \n",
       "4             NaN  ns2.domaindiscount24.net   \n",
       "5             NaN  ns3.domaindiscount24.net   \n",
       "\n",
       "                                 org                referral_url  \\\n",
       "0  Spreefang UG (haftungsbeschränkt)  http://www.key-systems.net   \n",
       "1                                NaN                         NaN   \n",
       "2                                NaN                         NaN   \n",
       "3                                NaN                         NaN   \n",
       "4                                NaN                         NaN   \n",
       "5                                NaN                         NaN   \n",
       "\n",
       "          registrar   state                       status        updated_date  \\\n",
       "0  Key-Systems GmbH  Berlin  ok https://icann.org/epp#ok 2015-09-09 00:00:00   \n",
       "1               NaN     NaN                          NaN 2015-09-09 16:19:28   \n",
       "2               NaN     NaN                          NaN                 NaT   \n",
       "3               NaN     NaN                          NaN                 NaT   \n",
       "4               NaN     NaN                          NaN                 NaT   \n",
       "5               NaN     NaN                          NaN                 NaT   \n",
       "\n",
       "         whois_server zipcode  \n",
       "0  whois.rrpproxy.net   10963  \n",
       "1                 NaN     NaN  \n",
       "2                 NaN     NaN  \n",
       "3                 NaN     NaN  \n",
       "4                 NaN     NaN  \n",
       "5                 NaN     NaN  "
      ]
     },
     "execution_count": 36,
     "metadata": {},
     "output_type": "execute_result"
    }
   ],
   "source": [
    "pd.DataFrame({k : pd.Series(v) for k, v in d.iteritems()})"
   ]
  },
  {
   "cell_type": "code",
   "execution_count": 13,
   "metadata": {
    "collapsed": false
   },
   "outputs": [
    {
     "data": {
      "text/plain": [
       "dict_keys([u'updated_date', u'status', u'name', u'dnssec', u'city', u'expiration_date', u'zipcode', u'domain_name', u'country', u'whois_server', u'state', u'registrar', u'referral_url', u'address', u'name_servers', u'org', u'creation_date', u'emails'])"
      ]
     },
     "execution_count": 13,
     "metadata": {},
     "output_type": "execute_result"
    }
   ],
   "source": [
    "get_whois('ohlala.com').keys()"
   ]
  },
  {
   "cell_type": "code",
   "execution_count": 15,
   "metadata": {
    "collapsed": false
   },
   "outputs": [],
   "source": [
    "d = get_whois('ohlala.com')"
   ]
  },
  {
   "cell_type": "code",
   "execution_count": 18,
   "metadata": {
    "collapsed": false
   },
   "outputs": [
    {
     "data": {
      "text/plain": [
       "dict_values([[datetime.datetime(2015, 9, 9, 0, 0), datetime.datetime(2015, 9, 9, 16, 19, 28)], u'ok https://icann.org/epp#ok', u'Torsten St\\xfcber', u'unsigned', u'Berlin', [datetime.datetime(2018, 10, 13, 0, 0), datetime.datetime(2018, 10, 13, 4, 0)], u'10963', [u'OHLALA.COM', u'ohlala.com'], u'DE', u'whois.rrpproxy.net', u'Berlin', u'Key-Systems GmbH', u'http://www.key-systems.net', u'Tempelhofer Ufer 17', [u'NS1.DOMAINDISCOUNT24.NET', u'NS2.DOMAINDISCOUNT24.NET', u'NS3.DOMAINDISCOUNT24.NET', u'ns1.domaindiscount24.net', u'ns2.domaindiscount24.net', u'ns3.domaindiscount24.net'], u'Spreefang UG (haftungsbeschr\\xe4nkt)', [datetime.datetime(1998, 10, 14, 0, 0), datetime.datetime(1998, 10, 14, 4, 0)], [u'abuse@key-systems.net', u'torsten.stueber@spreefang.de']])"
      ]
     },
     "execution_count": 18,
     "metadata": {},
     "output_type": "execute_result"
    }
   ],
   "source": [
    "d.items()"
   ]
  },
  {
   "cell_type": "code",
   "execution_count": 26,
   "metadata": {
    "collapsed": false
   },
   "outputs": [
    {
     "data": {
      "text/plain": [
       "dict_items([(u'updated_date', [datetime.datetime(2015, 9, 9, 0, 0), datetime.datetime(2015, 9, 9, 16, 19, 28)]), (u'status', u'ok https://icann.org/epp#ok'), (u'name', u'Torsten St\\xfcber'), (u'dnssec', u'unsigned'), (u'city', u'Berlin'), (u'expiration_date', [datetime.datetime(2018, 10, 13, 0, 0), datetime.datetime(2018, 10, 13, 4, 0)]), (u'zipcode', u'10963'), (u'domain_name', [u'OHLALA.COM', u'ohlala.com']), (u'country', u'DE'), (u'whois_server', u'whois.rrpproxy.net'), (u'state', u'Berlin'), (u'registrar', u'Key-Systems GmbH'), (u'referral_url', u'http://www.key-systems.net'), (u'address', u'Tempelhofer Ufer 17'), (u'name_servers', [u'NS1.DOMAINDISCOUNT24.NET', u'NS2.DOMAINDISCOUNT24.NET', u'NS3.DOMAINDISCOUNT24.NET', u'ns1.domaindiscount24.net', u'ns2.domaindiscount24.net', u'ns3.domaindiscount24.net']), (u'org', u'Spreefang UG (haftungsbeschr\\xe4nkt)'), (u'creation_date', [datetime.datetime(1998, 10, 14, 0, 0), datetime.datetime(1998, 10, 14, 4, 0)]), (u'emails', [u'abuse@key-systems.net', u'torsten.stueber@spreefang.de'])])"
      ]
     },
     "execution_count": 26,
     "metadata": {},
     "output_type": "execute_result"
    }
   ],
   "source": [
    "d.viewitems()"
   ]
  },
  {
   "cell_type": "code",
   "execution_count": 23,
   "metadata": {
    "collapsed": false
   },
   "outputs": [
    {
     "data": {
      "text/plain": [
       "dict_keys([u'updated_date', u'status', u'name', u'dnssec', u'city', u'expiration_date', u'zipcode', u'domain_name', u'country', u'whois_server', u'state', u'registrar', u'referral_url', u'address', u'name_servers', u'org', u'creation_date', u'emails'])"
      ]
     },
     "execution_count": 23,
     "metadata": {},
     "output_type": "execute_result"
    }
   ],
   "source": [
    "d.keys()"
   ]
  },
  {
   "cell_type": "code",
   "execution_count": 27,
   "metadata": {
    "collapsed": false
   },
   "outputs": [
    {
     "ename": "PandasError",
     "evalue": "DataFrame constructor not properly called!",
     "output_type": "error",
     "traceback": [
      "\u001b[1;31m---------------------------------------------------------------------------\u001b[0m",
      "\u001b[1;31mPandasError\u001b[0m                               Traceback (most recent call last)",
      "\u001b[1;32m<ipython-input-27-c0db09405ec6>\u001b[0m in \u001b[0;36m<module>\u001b[1;34m()\u001b[0m\n\u001b[1;32m----> 1\u001b[1;33m \u001b[0mpd\u001b[0m\u001b[1;33m.\u001b[0m\u001b[0mDataFrame\u001b[0m\u001b[1;33m(\u001b[0m\u001b[0md\u001b[0m\u001b[1;33m.\u001b[0m\u001b[0mviewitems\u001b[0m\u001b[1;33m(\u001b[0m\u001b[1;33m)\u001b[0m\u001b[1;33m)\u001b[0m\u001b[1;33m\u001b[0m\u001b[0m\n\u001b[0m",
      "\u001b[1;32mC:\\Anaconda2\\lib\\site-packages\\pandas\\core\\frame.pyc\u001b[0m in \u001b[0;36m__init__\u001b[1;34m(self, data, index, columns, dtype, copy)\u001b[0m\n\u001b[0;32m    301\u001b[0m                                          copy=False)\n\u001b[0;32m    302\u001b[0m             \u001b[1;32melse\u001b[0m\u001b[1;33m:\u001b[0m\u001b[1;33m\u001b[0m\u001b[0m\n\u001b[1;32m--> 303\u001b[1;33m                 \u001b[1;32mraise\u001b[0m \u001b[0mPandasError\u001b[0m\u001b[1;33m(\u001b[0m\u001b[1;34m'DataFrame constructor not properly called!'\u001b[0m\u001b[1;33m)\u001b[0m\u001b[1;33m\u001b[0m\u001b[0m\n\u001b[0m\u001b[0;32m    304\u001b[0m \u001b[1;33m\u001b[0m\u001b[0m\n\u001b[0;32m    305\u001b[0m         \u001b[0mNDFrame\u001b[0m\u001b[1;33m.\u001b[0m\u001b[0m__init__\u001b[0m\u001b[1;33m(\u001b[0m\u001b[0mself\u001b[0m\u001b[1;33m,\u001b[0m \u001b[0mmgr\u001b[0m\u001b[1;33m,\u001b[0m \u001b[0mfastpath\u001b[0m\u001b[1;33m=\u001b[0m\u001b[0mTrue\u001b[0m\u001b[1;33m)\u001b[0m\u001b[1;33m\u001b[0m\u001b[0m\n",
      "\u001b[1;31mPandasError\u001b[0m: DataFrame constructor not properly called!"
     ]
    }
   ],
   "source": [
    "pd.DataFrame(d.viewitems())"
   ]
  },
  {
   "cell_type": "code",
   "execution_count": null,
   "metadata": {
    "collapsed": false
   },
   "outputs": [],
   "source": [
    "get_whois('mattermark.com')"
   ]
  },
  {
   "cell_type": "code",
   "execution_count": null,
   "metadata": {
    "collapsed": true
   },
   "outputs": [],
   "source": [
    "w = whois.whois(url)"
   ]
  },
  {
   "cell_type": "code",
   "execution_count": null,
   "metadata": {
    "collapsed": false
   },
   "outputs": [],
   "source": [
    "w"
   ]
  },
  {
   "cell_type": "code",
   "execution_count": null,
   "metadata": {
    "collapsed": true
   },
   "outputs": [],
   "source": []
  }
 ],
 "metadata": {
  "kernelspec": {
   "display_name": "Python [Root]",
   "language": "python",
   "name": "Python [Root]"
  },
  "language_info": {
   "codemirror_mode": {
    "name": "ipython",
    "version": 2
   },
   "file_extension": ".py",
   "mimetype": "text/x-python",
   "name": "python",
   "nbconvert_exporter": "python",
   "pygments_lexer": "ipython2",
   "version": "2.7.12"
  }
 },
 "nbformat": 4,
 "nbformat_minor": 0
}
